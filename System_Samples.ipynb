{
  "nbformat": 4,
  "nbformat_minor": 0,
  "metadata": {
    "colab": {
      "private_outputs": true,
      "provenance": []
    },
    "kernelspec": {
      "name": "python3",
      "display_name": "Python 3"
    },
    "language_info": {
      "name": "python"
    }
  },
  "cells": [
    {
      "cell_type": "code",
      "execution_count": null,
      "metadata": {
        "id": "EH_wV1umnVNm"
      },
      "outputs": [],
      "source": [
        "!pip install -U ultralytics comet_ml \"ray[tune]\""
      ]
    },
    {
      "cell_type": "code",
      "source": [
        "import numpy as np\n",
        "import urllib.request\n",
        "import os\n",
        "import pandas as pd\n",
        "import matplotlib.pyplot as plt\n",
        "import comet_ml\n",
        "from comet_ml import Experiment\n",
        "from comet_ml.integration.pytorch import log_model\n",
        "from google.colab import drive\n",
        "from ultralytics import YOLO\n",
        "from IPython.display import display, Image"
      ],
      "metadata": {
        "id": "wJAIMRuvq7J9"
      },
      "execution_count": null,
      "outputs": []
    },
    {
      "cell_type": "code",
      "source": [
        "experiment = Experiment(\n",
        "  api_key=\"5fCsrnPuH0lfw0o6xcWFmPiPL\",\n",
        "  project_name=\"general\",\n",
        "  workspace=\"xenosians\"\n",
        ")"
      ],
      "metadata": {
        "id": "1YUZdwT9pt55"
      },
      "execution_count": null,
      "outputs": []
    },
    {
      "cell_type": "code",
      "source": [
        "drive.mount('/content/gdrive')\n",
        "# !ls '/content/gdrive/My Drive/'"
      ],
      "metadata": {
        "id": "RBPWJyobrCfa"
      },
      "execution_count": null,
      "outputs": []
    },
    {
      "cell_type": "code",
      "source": [
        "DATA_DIR = '/content/gdrive/My Drive/TA_DATA/'"
      ],
      "metadata": {
        "id": "gLr5-U5hsYFf"
      },
      "execution_count": null,
      "outputs": []
    },
    {
      "cell_type": "code",
      "source": [
        "config_url = \"https://raw.githubusercontent.com/Xenosians/ultralytics-FinalProject/main/ultralytics/cfg/models/v8/yolov8-cls.yaml\"\n",
        "\n",
        "config_path = \"/content/yolov8-cls.yaml\"\n",
        "\n",
        "urllib.request.urlretrieve(config_url, config_path)\n",
        "\n",
        "print(f\"Successfully downloaded YOLOv8 model configuration file to: {config_path}\")"
      ],
      "metadata": {
        "id": "3QwVq5sx5GuJ"
      },
      "execution_count": null,
      "outputs": []
    },
    {
      "cell_type": "code",
      "source": [
        "hyper_params = {\n",
        "  \"data\" : DATA_DIR,\n",
        "  \"lrf\": 0.001,\n",
        "  \"epochs\": 100,\n",
        "  \"batch\": 16,\n",
        "  \"pretrained\" : False\n",
        "}"
      ],
      "metadata": {
        "id": "gbCLeWDr0CQu"
      },
      "execution_count": null,
      "outputs": []
    },
    {
      "cell_type": "code",
      "source": [
        "model = YOLO(config_path)\n",
        "print(model)"
      ],
      "metadata": {
        "id": "fetthgZi20oF"
      },
      "execution_count": null,
      "outputs": []
    },
    {
      "cell_type": "code",
      "source": [
        "results_train = model.train(data=DATA_DIR,pretrained=False,lrf=0.001,epochs=100,batch=50,label_smoothing=1.0)\n",
        "\n",
        "print(\"Training Results:\")\n",
        "print(results_train)"
      ],
      "metadata": {
        "id": "668AP2A50U6k"
      },
      "execution_count": null,
      "outputs": []
    },
    {
      "cell_type": "code",
      "source": [
        "experiment.log_parameters(hyper_params)"
      ],
      "metadata": {
        "id": "zgMMVEpO0nmz"
      },
      "execution_count": null,
      "outputs": []
    },
    {
      "cell_type": "code",
      "source": [
        "!scp -r /content/runs '/content/gdrive/My Drive/TA_DATA/ImageClassifications'"
      ],
      "metadata": {
        "id": "LawMaIiA3LZF"
      },
      "execution_count": null,
      "outputs": []
    },
    {
      "cell_type": "code",
      "source": [
        "DATA_DIR_PREDICT_CLEAN = '/content/gdrive/MyDrive/TA_DATA/train/clean'\n",
        "\n",
        "model = YOLO('/content/gdrive/MyDrive/TA_DATA/ImageClassifications/runs/classify/train2/weights/best.pt')\n",
        "\n",
        "all_names = []\n",
        "all_probs = []\n",
        "\n",
        "for filename in os.listdir(DATA_DIR_PREDICT_CLEAN):\n",
        "    if filename.endswith(\".jpg\"):\n",
        "        image_path = os.path.join(DATA_DIR_PREDICT_CLEAN, filename)\n",
        "\n",
        "        results = model(image_path)\n",
        "\n",
        "        names_dict = results[0].names\n",
        "        probs = results[0].probs.data.tolist()\n",
        "\n",
        "        all_names.append(names_dict[np.argmax(probs)])\n",
        "        all_probs.append(np.max(probs))\n",
        "\n",
        "average_prob = np.mean(all_probs)\n",
        "\n",
        "print(\"Average Result:\")\n",
        "print(f\"Predicted Class: {all_names[np.argmax(all_probs)]}\")\n",
        "print(f\"Average Confidence: {average_prob}\")"
      ],
      "metadata": {
        "id": "a_8ZXC3uCM-H"
      },
      "execution_count": null,
      "outputs": []
    },
    {
      "cell_type": "code",
      "source": [
        "DATA_DIR_PREDICT_CHEATS = '/content/gdrive/MyDrive/TA_DATA/train/cheat/images/'\n",
        "\n",
        "model = YOLO('/content/gdrive/MyDrive/TA_DATA/ImageClassifications/runs/classify/train2/weights/best.pt')\n",
        "\n",
        "all_names = []\n",
        "all_probs = []\n",
        "\n",
        "for filename in os.listdir(DATA_DIR_PREDICT_CHEATS):\n",
        "    if filename.endswith(\".jpg\"):\n",
        "        image_path = os.path.join(DATA_DIR_PREDICT_CHEATS, filename)\n",
        "\n",
        "        results = model(image_path)\n",
        "\n",
        "        names_dict = results[0].names\n",
        "        probs = results[0].probs.data.tolist()\n",
        "\n",
        "        all_names.append(names_dict[np.argmax(probs)])\n",
        "        all_probs.append(np.max(probs))\n",
        "\n",
        "average_prob = np.mean(all_probs)\n",
        "\n",
        "print(\"Average Result:\")\n",
        "print(f\"Predicted Class: {all_names[np.argmax(all_probs)]}\")\n",
        "print(f\"Average Confidence: {average_prob}\")"
      ],
      "metadata": {
        "id": "h6KRWuFUDdhJ"
      },
      "execution_count": null,
      "outputs": []
    },
    {
      "cell_type": "code",
      "source": [
        "DATA_DIR = '/content/gdrive/MyDrive/predict/predict_random_3.jpg'\n",
        "\n",
        "model = YOLO('/content/gdrive/MyDrive/TA_DATA/ImageClassifications/runs/classify/train2/weights/best.pt')\n",
        "results = model(DATA_DIR)\n",
        "\n",
        "image_path = DATA_DIR\n",
        "display(Image(filename=image_path))\n",
        "\n",
        "names_dict = results[0].names\n",
        "probs = results[0].probs.data.tolist()\n",
        "\n",
        "print(names_dict)\n",
        "print(probs)\n",
        "\n",
        "max_prob_index = np.argmax(probs)\n",
        "predicted_class = names_dict[max_prob_index]\n",
        "\n",
        "print(f\"Predicted Class: {predicted_class}\")"
      ],
      "metadata": {
        "id": "aDHKGG42ElYh"
      },
      "execution_count": null,
      "outputs": []
    },
    {
      "cell_type": "code",
      "source": [
        "results_path = '/content/gdrive/MyDrive/TA_DATA/ImageClassifications/runs/classify/train2/results.csv'\n",
        "\n",
        "results = pd.read_csv(results_path)\n",
        "\n",
        "plt.figure()\n",
        "plt.plot(results['                  epoch'], results['             train/loss'], label='train loss')\n",
        "plt.plot(results['                  epoch'], results['               val/loss'], label='val loss', c='red')\n",
        "plt.grid()\n",
        "plt.title('Loss vs epochs')\n",
        "plt.ylabel('loss')\n",
        "plt.xlabel('epochs')\n",
        "plt.legend()\n",
        "\n",
        "\n",
        "plt.figure()\n",
        "plt.plot(results['                  epoch'], results['  metrics/accuracy_top1'] * 100)\n",
        "plt.grid()\n",
        "plt.title('Validation accuracy vs epochs')\n",
        "plt.ylabel('accuracy (%)')\n",
        "plt.xlabel('epochs')\n",
        "\n",
        "plt.show()"
      ],
      "metadata": {
        "id": "bMwJaFCjDwQZ"
      },
      "execution_count": null,
      "outputs": []
    },
    {
      "cell_type": "code",
      "source": [
        "Image(\"/content/gdrive/MyDrive/TA_DATA/ImageClassifications/runs/classify/train2/results.png\")"
      ],
      "metadata": {
        "id": "hPwX9qxnXS7o"
      },
      "execution_count": null,
      "outputs": []
    },
    {
      "cell_type": "code",
      "source": [
        "Image('/content/gdrive/MyDrive/TA_DATA/ImageClassifications/runs/classify/train2/confusion_matrix_normalized.png')"
      ],
      "metadata": {
        "id": "2Xddm9SuXhFB"
      },
      "execution_count": null,
      "outputs": []
    },
    {
      "cell_type": "code",
      "source": [
        "model = YOLO('/content/gdrive/MyDrive/TA_DATA/ImageClassifications/runs/classify/train2/weights/best.pt')\n",
        "\n",
        "model.export(format='onnx')"
      ],
      "metadata": {
        "id": "FzigmhEFdsid"
      },
      "execution_count": null,
      "outputs": []
    }
  ]
}